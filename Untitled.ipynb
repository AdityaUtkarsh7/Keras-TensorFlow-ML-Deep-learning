{
 "cells": [
  {
   "cell_type": "code",
   "execution_count": 36,
   "id": "966177cc-bdc8-482f-89da-b0dc80d9d5ee",
   "metadata": {},
   "outputs": [],
   "source": [
    "import tensorflow as tf\n",
    "from tensorflow.keras import datasets, layers, models\n",
    "import matplotlib.pyplot as plt\n",
    "import numpy as np"
   ]
  },
  {
   "cell_type": "code",
   "execution_count": 37,
   "id": "505612dd-d319-4f2d-8271-3823cc63ce96",
   "metadata": {},
   "outputs": [],
   "source": [
    "(X_train, y_train), (X_test,y_test) = datasets.cifar10.load_data()\n",
    "#X_train.shape\n"
   ]
  },
  {
   "cell_type": "code",
   "execution_count": 38,
   "id": "1beb29eb-8c7c-4705-a98c-6b282df11b84",
   "metadata": {},
   "outputs": [
    {
     "data": {
      "text/plain": [
       "(10000, 32, 32, 3)"
      ]
     },
     "execution_count": 38,
     "metadata": {},
     "output_type": "execute_result"
    }
   ],
   "source": [
    "X_test.shape"
   ]
  },
  {
   "cell_type": "code",
   "execution_count": 39,
   "id": "4c450124-9e24-44f1-bb68-376d5c181492",
   "metadata": {},
   "outputs": [
    {
     "data": {
      "text/plain": [
       "(50000, 1)"
      ]
     },
     "execution_count": 39,
     "metadata": {},
     "output_type": "execute_result"
    }
   ],
   "source": [
    "y_train.shape"
   ]
  },
  {
   "cell_type": "code",
   "execution_count": 40,
   "id": "6a879795-dc93-4d0b-ab85-0361f9784ca7",
   "metadata": {},
   "outputs": [
    {
     "data": {
      "text/plain": [
       "array([[6],\n",
       "       [9],\n",
       "       [9],\n",
       "       [4],\n",
       "       [1]], dtype=uint8)"
      ]
     },
     "execution_count": 40,
     "metadata": {},
     "output_type": "execute_result"
    }
   ],
   "source": [
    "y_train[:5]"
   ]
  },
  {
   "cell_type": "code",
   "execution_count": 41,
   "id": "3ea24f44-e03d-4f39-a4ce-8df2d0aef9ec",
   "metadata": {},
   "outputs": [
    {
     "data": {
      "text/plain": [
       "array([6, 9, 9, 4, 1], dtype=uint8)"
      ]
     },
     "execution_count": 41,
     "metadata": {},
     "output_type": "execute_result"
    }
   ],
   "source": [
    "y_train = y_train.reshape(-1,)\n",
    "y_train[:5]"
   ]
  },
  {
   "cell_type": "code",
   "execution_count": 43,
   "id": "12db3fe6-1246-4a85-a7ee-d2a32964f6f7",
   "metadata": {},
   "outputs": [],
   "source": [
    "y_test = y_test.reshape(-1,)"
   ]
  },
  {
   "cell_type": "code",
   "execution_count": 44,
   "id": "2ff2713c-b150-423b-aded-dfd09896cd1a",
   "metadata": {},
   "outputs": [],
   "source": [
    "classes = [\"airplane\",\"automobile\",\"bird\",\"cat\",\"deer\",\"dog\",\"frog\",\"horse\",\"ship\",\"truck\"]\n"
   ]
  },
  {
   "cell_type": "code",
   "execution_count": 76,
   "id": "046ea068-88d6-4b1c-bbee-cf2fc6414560",
   "metadata": {},
   "outputs": [],
   "source": [
    "def plot_sample(X, y, index):\n",
    "    plt.figure(figsize = (15,2))\n",
    "    plt.imshow(X[index])\n",
    "    plt.xlabel(classes[y[index]])\n"
   ]
  },
  {
   "cell_type": "code",
   "execution_count": 46,
   "id": "5cd7e8fa-873c-48b4-ac32-a27cd84d159d",
   "metadata": {},
   "outputs": [
    {
     "data": {
      "image/png": "[encoded data removed]",
      "text/plain": [
       "<Figure size 1500x200 with 1 Axes>"
      ]
     },
     "metadata": {},
     "output_type": "display_data"
    }
   ],
   "source": [
    "plot_sample(X_train, y_train, 0)"
   ]
  },
  {
   "cell_type": "code",
   "execution_count": 27,
   "id": "9dbef2eb-9d5a-4627-887d-3e42c80fa0cd",
   "metadata": {},
   "outputs": [],
   "source": [
    "# X_train = X_train.astype(np.float32)\n",
    "# X_test = X_test.astype(np.float32)\n",
    "\n",
    "# # Now normalize the data\n",
    "# X_train = X_train / 255.0\n",
    "# X_test = X_test / 255.0"
   ]
  },
  {
   "cell_type": "code",
   "execution_count": 47,
   "id": "2aec2474-7290-4f06-bbf9-de678092a991",
   "metadata": {},
   "outputs": [],
   "source": [
    "X_train = X_train.astype('float32') / 255.0\n",
    "X_test = X_test.astype('float32') / 255.0"
   ]
  },
  {
   "cell_type": "code",
   "execution_count": 49,
   "id": "bc36e349-2ee8-4f96-8fdf-bb09ea611ace",
   "metadata": {},
   "outputs": [
    {
     "name": "stdout",
     "output_type": "stream",
     "text": [
      "Epoch 1/5\n",
      "1563/1563 [==============================] - 7s 4ms/step - loss: 1.8084 - accuracy: 0.3554\n",
      "Epoch 2/5\n",
      "1563/1563 [==============================] - 7s 5ms/step - loss: 1.6196 - accuracy: 0.4308\n",
      "Epoch 3/5\n",
      "1563/1563 [==============================] - 8s 5ms/step - loss: 1.5404 - accuracy: 0.4560\n",
      "Epoch 4/5\n",
      "1563/1563 [==============================] - 9s 6ms/step - loss: 1.4833 - accuracy: 0.4752\n",
      "Epoch 5/5\n",
      "1563/1563 [==============================] - 7s 5ms/step - loss: 1.4333 - accuracy: 0.4968\n"
     ]
    },
    {
     "data": {
      "text/plain": [
       "<keras.callbacks.History at 0x21a584e9f40>"
      ]
     },
     "execution_count": 49,
     "metadata": {},
     "output_type": "execute_result"
    }
   ],
   "source": [
    "ann = models.Sequential([\n",
    "        layers.Flatten(input_shape=(32,32,3)),\n",
    "        layers.Dense(3000, activation='relu'),\n",
    "        layers.Dense(1000, activation='relu'),\n",
    "        layers.Dense(10, activation='sigmoid')    \n",
    "    ])\n",
    "\n",
    "ann.compile(optimizer='SGD',\n",
    "              loss='sparse_categorical_crossentropy',\n",
    "              metrics=['accuracy'])\n",
    "\n",
    "ann.fit(X_train, y_train, epochs=5)"
   ]
  },
  {
   "cell_type": "code",
   "execution_count": 50,
   "id": "38b86778-8cfc-4972-b72d-8b2ada561159",
   "metadata": {},
   "outputs": [
    {
     "name": "stdout",
     "output_type": "stream",
     "text": [
      "313/313 [==============================] - 1s 3ms/step\n",
      "Classification Report: \n",
      "               precision    recall  f1-score   support\n",
      "\n",
      "           0       0.51      0.57      0.54      1000\n",
      "           1       0.46      0.73      0.56      1000\n",
      "           2       0.43      0.23      0.30      1000\n",
      "           3       0.39      0.24      0.29      1000\n",
      "           4       0.50      0.34      0.41      1000\n",
      "           5       0.43      0.34      0.38      1000\n",
      "           6       0.52      0.54      0.53      1000\n",
      "           7       0.49      0.59      0.53      1000\n",
      "           8       0.56      0.63      0.59      1000\n",
      "           9       0.46      0.61      0.52      1000\n",
      "\n",
      "    accuracy                           0.48     10000\n",
      "   macro avg       0.48      0.48      0.47     10000\n",
      "weighted avg       0.48      0.48      0.47     10000\n",
      "\n"
     ]
    }
   ],
   "source": [
    "from sklearn.metrics import confusion_matrix , classification_report\n",
    "import numpy as np\n",
    "y_pred = ann.predict(X_test)\n",
    "y_pred_classes = [np.argmax(element) for element in y_pred]\n",
    "\n",
    "print(\"Classification Report: \\n\", classification_report(y_test, y_pred_classes))"
   ]
  },
  {
   "cell_type": "code",
   "execution_count": 51,
   "id": "81d1568e-371b-4fac-9eb7-737f2f99a995",
   "metadata": {},
   "outputs": [],
   "source": [
    "cnn = models.Sequential([\n",
    "    layers.Conv2D(filters=32, kernel_size=(3, 3), activation='relu', input_shape=(32, 32, 3)),\n",
    "    layers.MaxPooling2D((2, 2)),\n",
    "    \n",
    "    layers.Conv2D(filters=64, kernel_size=(3, 3), activation='relu'),\n",
    "    layers.MaxPooling2D((2, 2)),\n",
    "    \n",
    "    layers.Flatten(),\n",
    "    layers.Dense(64, activation='relu'),\n",
    "    layers.Dense(10, activation='softmax')\n",
    "])"
   ]
  },
  {
   "cell_type": "code",
   "execution_count": 32,
   "id": "5552f592-7a00-447b-9563-efee406bbcec",
   "metadata": {},
   "outputs": [],
   "source": [
    "# cnn.compile(optimizer='adam',\n",
    "#               loss='sparse_categorical_crossentropy',\n",
    "#               metrics=['accuracy'])"
   ]
  },
  {
   "cell_type": "code",
   "execution_count": 52,
   "id": "a5934927-cef9-402e-b432-727bad941a64",
   "metadata": {},
   "outputs": [],
   "source": [
    "from tensorflow.keras.optimizers import Adam\n",
    "optimizer = Adam(learning_rate=0.0001)\n",
    "cnn.compile(optimizer=optimizer, loss='sparse_categorical_crossentropy', metrics=['accuracy'])\n"
   ]
  },
  {
   "cell_type": "code",
   "execution_count": 57,
   "id": "adddf9ae-ac12-4f19-988e-51f3177ce403",
   "metadata": {},
   "outputs": [
    {
     "name": "stdout",
     "output_type": "stream",
     "text": [
      "Epoch 1/13\n",
      "1563/1563 [==============================] - 6s 4ms/step - loss: 0.9073 - accuracy: 0.6888\n",
      "Epoch 2/13\n",
      "1563/1563 [==============================] - 6s 4ms/step - loss: 0.8910 - accuracy: 0.6951\n",
      "Epoch 3/13\n",
      "1563/1563 [==============================] - 7s 4ms/step - loss: 0.8786 - accuracy: 0.7018\n",
      "Epoch 4/13\n",
      "1563/1563 [==============================] - 6s 4ms/step - loss: 0.8645 - accuracy: 0.7047\n",
      "Epoch 5/13\n",
      "1563/1563 [==============================] - 8s 5ms/step - loss: 0.8521 - accuracy: 0.7082\n",
      "Epoch 6/13\n",
      "1563/1563 [==============================] - 9s 6ms/step - loss: 0.8386 - accuracy: 0.7129\n",
      "Epoch 7/13\n",
      "1563/1563 [==============================] - 9s 6ms/step - loss: 0.8261 - accuracy: 0.7171\n",
      "Epoch 8/13\n",
      "1563/1563 [==============================] - 8s 5ms/step - loss: 0.8149 - accuracy: 0.7226\n",
      "Epoch 9/13\n",
      "1563/1563 [==============================] - 9s 5ms/step - loss: 0.8018 - accuracy: 0.7261\n",
      "Epoch 10/13\n",
      "1563/1563 [==============================] - 6s 4ms/step - loss: 0.7903 - accuracy: 0.7290\n",
      "Epoch 11/13\n",
      "1563/1563 [==============================] - 7s 4ms/step - loss: 0.7794 - accuracy: 0.7327\n",
      "Epoch 12/13\n",
      "1563/1563 [==============================] - 6s 4ms/step - loss: 0.7689 - accuracy: 0.7364\n",
      "Epoch 13/13\n",
      "1563/1563 [==============================] - 7s 4ms/step - loss: 0.7580 - accuracy: 0.7401\n"
     ]
    },
    {
     "data": {
      "text/plain": [
       "<keras.callbacks.History at 0x21a586acbe0>"
      ]
     },
     "execution_count": 57,
     "metadata": {},
     "output_type": "execute_result"
    }
   ],
   "source": [
    "cnn.fit(X_train, y_train, epochs=13)"
   ]
  },
  {
   "cell_type": "code",
   "execution_count": 58,
   "id": "b93d9e93-2f53-4fe6-abcb-5465aec8a1e2",
   "metadata": {},
   "outputs": [
    {
     "name": "stdout",
     "output_type": "stream",
     "text": [
      "313/313 [==============================] - 1s 3ms/step - loss: 0.9384 - accuracy: 0.6841\n"
     ]
    },
    {
     "data": {
      "text/plain": [
       "[0.9383899569511414, 0.6840999722480774]"
      ]
     },
     "execution_count": 58,
     "metadata": {},
     "output_type": "execute_result"
    }
   ],
   "source": [
    "cnn.evaluate(X_test, y_test)"
   ]
  },
  {
   "cell_type": "code",
   "execution_count": 59,
   "id": "f2f97916-729f-48bf-bdc1-7647f789c714",
   "metadata": {},
   "outputs": [
    {
     "data": {
      "text/plain": [
       "array([3, 8, 8, 0, 6], dtype=uint8)"
      ]
     },
     "execution_count": 59,
     "metadata": {},
     "output_type": "execute_result"
    }
   ],
   "source": [
    "y_test=y_test.reshape(-1,)\n",
    "y_test[:5]"
   ]
  },
  {
   "cell_type": "code",
   "execution_count": 74,
   "id": "6e539bb1-5576-4d14-b816-07de89ceff20",
   "metadata": {},
   "outputs": [
    {
     "data": {
      "image/png": "[encoded data removed]",
      "text/plain": [
       "<Figure size 1500x200 with 1 Axes>"
      ]
     },
     "metadata": {},
     "output_type": "display_data"
    }
   ],
   "source": [
    "plot_sample(X_test,y_test,4)"
   ]
  },
  {
   "cell_type": "code",
   "execution_count": 70,
   "id": "5e3f4f26-e12f-4dba-8b75-4cbc0072d823",
   "metadata": {},
   "outputs": [
    {
     "name": "stdout",
     "output_type": "stream",
     "text": [
      "313/313 [==============================] - 1s 3ms/step\n"
     ]
    },
    {
     "data": {
      "text/plain": [
       "array([[7.0838286e-03, 2.5856581e-03, 4.9488299e-02, 8.0705982e-01,\n",
       "        1.2787399e-02, 4.3929789e-02, 2.8594803e-02, 1.4773451e-03,\n",
       "        4.6291102e-02, 7.0196885e-04],\n",
       "       [6.3700885e-02, 2.3435229e-01, 2.9703602e-05, 2.6453106e-06,\n",
       "        2.3882157e-07, 3.4756834e-08, 3.3713960e-08, 2.2434182e-07,\n",
       "        6.9994366e-01, 1.9702904e-03],\n",
       "       [7.9313591e-02, 1.9435358e-01, 4.9711824e-03, 1.6299514e-03,\n",
       "        1.1723810e-03, 3.6459460e-05, 3.4786077e-05, 2.8035282e-03,\n",
       "        7.1018845e-01, 5.4960707e-03],\n",
       "       [7.0361531e-01, 1.1204040e-02, 1.4599612e-02, 5.7035277e-04,\n",
       "        6.9157369e-03, 2.1021431e-05, 3.5008218e-04, 4.3361953e-05,\n",
       "        2.6251832e-01, 1.6213885e-04],\n",
       "       [8.4363064e-06, 3.1763804e-05, 5.7049580e-03, 1.6990213e-02,\n",
       "        3.3310670e-01, 4.4595157e-03, 6.3938767e-01, 1.7796675e-06,\n",
       "        2.9950365e-04, 9.5445930e-06]], dtype=float32)"
      ]
     },
     "execution_count": 70,
     "metadata": {},
     "output_type": "execute_result"
    }
   ],
   "source": [
    "y_pred= cnn.predict(X_test)\n",
    "y_pred[:5]"
   ]
  },
  {
   "cell_type": "code",
   "execution_count": 71,
   "id": "ea9bda0f-5386-407f-a394-36620cd7a5ca",
   "metadata": {},
   "outputs": [
    {
     "data": {
      "text/plain": [
       "[3, 8, 8, 0, 6]"
      ]
     },
     "execution_count": 71,
     "metadata": {},
     "output_type": "execute_result"
    }
   ],
   "source": [
    "y_class=[np.argmax(element) for element in y_pred]\n",
    "y_class[:5]"
   ]
  },
  {
   "cell_type": "code",
   "execution_count": 72,
   "id": "4e6ff5c5-d285-4c3c-a996-ff1fb2fe5aa0",
   "metadata": {},
   "outputs": [
    {
     "data": {
      "text/plain": [
       "array([3, 8, 8, 0, 6], dtype=uint8)"
      ]
     },
     "execution_count": 72,
     "metadata": {},
     "output_type": "execute_result"
    }
   ],
   "source": [
    "y_test[:5]"
   ]
  },
  {
   "cell_type": "code",
   "execution_count": 81,
   "id": "239a2300-8d99-4636-bae7-d1198ebfa359",
   "metadata": {},
   "outputs": [
    {
     "data": {
      "image/png": "[encoded data removed]",
      "text/plain": [
       "<Figure size 1500x200 with 1 Axes>"
      ]
     },
     "metadata": {},
     "output_type": "display_data"
    }
   ],
   "source": [
    "plot_sample(X_test,y_test,4)"
   ]
  },
  {
   "cell_type": "code",
   "execution_count": 80,
   "id": "81d04ba8-391c-4017-ace9-cc4803022b24",
   "metadata": {},
   "outputs": [
    {
     "data": {
      "text/plain": [
       "'frog'"
      ]
     },
     "execution_count": 80,
     "metadata": {},
     "output_type": "execute_result"
    }
   ],
   "source": [
    "classes[y_class[4]]"
   ]
  }
 ],
 "metadata": {
  "kernelspec": {
   "display_name": "Python 3 (ipykernel)",
   "language": "python",
   "name": "python3"
  },
  "language_info": {
   "codemirror_mode": {
    "name": "ipython",
    "version": 3
   },
   "file_extension": ".py",
   "mimetype": "text/x-python",
   "name": "python",
   "nbconvert_exporter": "python",
   "pygments_lexer": "ipython3",
   "version": "3.9.23"
  }
 },
 "nbformat": 4,
 "nbformat_minor": 5
}
